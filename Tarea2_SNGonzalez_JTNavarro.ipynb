{
 "cells": [
  {
   "cell_type": "markdown",
   "metadata": {},
   "source": [
    "<img style=\"float: left; margin: 30px 15px 15px 15px;\" src=\"https://pngimage.net/wp-content/uploads/2018/06/logo-iteso-png-5.png\" width=\"300\" height=\"500\" /> \n",
    "    \n",
    "    \n",
    "### <font color='navy'> Simulación de procesos financieros. \n",
    "\n",
    "**Nombres:** Sean Nicolás González Vázquez y José Tonatiuh Navarro Silva.\n",
    "\n",
    "**Fecha:** 10 de septiembre del 2020.\n",
    "\n",
    "**Expediente** : 720083 y 723399\n",
    "**Profesor:** Oscar David Jaramillo Zuluaga.\n",
    "\n",
    "# Tarea 2: Clase Optimizacion de código"
   ]
  },
  {
   "cell_type": "markdown",
   "metadata": {},
   "source": [
    "### El link donde se evidencia el trabajo es el siguiente: [Perfil GitHub Nicolas Gonzalez](https://github.com/nicoglez)"
   ]
  },
  {
   "cell_type": "markdown",
   "metadata": {},
   "source": [
    "## Enunciado de tarea \n",
    "#### **Ejercicio 1**\n",
    "1. Imagine una rutina contable utilizada en una librería. Funciona en una lista con sublistas, que se ven así:\n",
    "\n",
    "Escriba un programa en Python, que devuelve una lista con tuplas de tamaño 2. Cada tupla consiste en el número de pedido y el costo total del pedido. El producto debe aumentarse en 10€ si el valor de la orden es inferior a 100,00 €. \n",
    "Escribe un programa Python usando unicamente las funciones **lambda y map**.\n",
    "\n",
    "`orders = [ [\"34587\", \"Learning Python, Mark Lutz\", 4, 40.95], \n",
    "           [\"98762\", \"Programming Python, Mark Lutz\", 5, 56.80], \n",
    "           [\"77226\", \"Head First Python, Paul Barry\", 3,32.95],\n",
    "           [\"88112\", \"Einführung in Python3, Bernd Klein\", 3, 24.99]]`\n",
    "\n",
    "#### **Ejercicio 2**\n",
    "2. La misma librería, pero esta vez trabajamos en una lista diferente. Las sublistas de nuestras listas se ven así: \n",
    "[número de orden, (número de artículo, cantidad, precio por unidad), ... (número de artículo, cantidad, precio por unidad)] \n",
    "\n",
    "`orders = [[1, (\"5464\", 4, 9.99), (\"8274\",18,12.99), (\"9744\", 9, 44.95)], \n",
    "\t       [2, (\"5464\", 9, 9.99), (\"9744\", 9, 44.95)],\n",
    "\t       [3, (\"5464\", 9, 9.99), (\"88112\", 11, 24.99)],\n",
    "           [4, (\"8732\", 7, 11.99), (\"7733\",11,18.99), (\"88112\", 5, 39.95)] ]`\n",
    "\n",
    "Escriba un programa que devuelva una lista de dos tuplas que tengan la información de (número de pedido, cantidad total de pedido). Utilice la función `Reduce`. Recuerde el precio del pedido del producto debe aumentarse en 10€ si el valor de la orden es inferior a 100,00 €.\n",
    "\n",
    "#### **Ejercicio 3**\n",
    "3. Resolver los anteriores ejercicios usando pandas (DataFrame)\n",
    "\n",
    "#### **Ejercicio 4**\n",
    "Use filter to eliminate all words that are shorter than 4 letters from a list of words\n",
    "`list='the notion of a lambda function goes all the way back to the origin of computer science'`\n",
    "\n",
    "#### **Ejercicio 5**\n",
    "Use filter to determine the percentage of Fahrenheit temperatures in a list are within the range 32 to 80\n",
    "\n",
    "#### **Ejercicio 6**\n",
    "Use reduce to find the lower left corner (minimum x and minimum y value) for a list of point locations"
   ]
  },
  {
   "cell_type": "markdown",
   "metadata": {},
   "source": [
    "### Resolucion de Ejercicios"
   ]
  },
  {
   "cell_type": "code",
   "execution_count": 8,
   "metadata": {},
   "outputs": [],
   "source": [
    "# Importacion de librerias\n",
    "# importacion de librerias\n",
    "import pandas as pd\n",
    "import numpy as np\n",
    "from functools import reduce"
   ]
  },
  {
   "cell_type": "markdown",
   "metadata": {},
   "source": [
    "### Ejercicio 1: \n",
    "1. Imagine una rutina contable utilizada en una librería. Funciona en una lista con sublistas, que se ven así:\n",
    "\n",
    "Escriba un programa en Python, que devuelve una lista con tuplas de tamaño 2. Cada tupla consiste en el número de pedido y el costo total del pedido. El producto debe aumentarse en 10€ si el valor de la orden es inferior a 100,00 €. \n",
    "Escribe un programa Python usando unicamente las funciones **lambda y map**.\n",
    "\n",
    "`orders = [ [\"34587\", \"Learning Python, Mark Lutz\", 4, 40.95], \n",
    "           [\"98762\", \"Programming Python, Mark Lutz\", 5, 56.80], \n",
    "           [\"77226\", \"Head First Python, Paul Barry\", 3,32.95],\n",
    "           [\"88112\", \"Einführung in Python3, Bernd Klein\", 3, 24.99]]`"
   ]
  },
  {
   "cell_type": "code",
   "execution_count": 12,
   "metadata": {},
   "outputs": [
    {
     "data": {
      "text/plain": [
       "[('34587', 163.8),\n",
       " ('98762', 284.0),\n",
       " ('77226', 108.85000000000001),\n",
       " ('88112', 84.97)]"
      ]
     },
     "execution_count": 12,
     "metadata": {},
     "output_type": "execute_result"
    }
   ],
   "source": [
    "# Codigo Nicolas Glez\n",
    "orders =  [[\"34587\", \"Learning Python, Mark Lutz\", 4, 40.95], \n",
    "           [\"98762\", \"Programming Python, Mark Lutz\", 5, 56.80], \n",
    "           [\"77226\", \"Head First Python, Paul Barry\", 3,32.95],\n",
    "           [\"88112\", \"Einführung in Python3, Bernd Klein\", 3, 24.99]]\n",
    "\n",
    "conditional = lambda x: x+ 10 if (x < 100) else x # Funcion para aplicar la condicion\n",
    "multi = lambda a,b : a*b # funcion para multiplicar\n",
    "\n",
    "t = list(map(tuple, zip(*orders))) # Transponer tuplas\n",
    "o = t[0], list(map(conditional,(tuple(map(multi, t[2], t[3]))))) #aplicar condicional y multiplicar y juntar tuplas\n",
    "s1 = list(map(tuple, zip(*o))) # Regresar tuplas a posicion inicial\n",
    "\n",
    "s1"
   ]
  },
  {
   "cell_type": "code",
   "execution_count": null,
   "metadata": {},
   "outputs": [],
   "source": [
    "# Codigo Jose Tonatiuh"
   ]
  },
  {
   "cell_type": "markdown",
   "metadata": {},
   "source": [
    "### **Ejercicio 2**\n",
    "2. La misma librería, pero esta vez trabajamos en una lista diferente. Las sublistas de nuestras listas se ven así: \n",
    "[número de orden, (número de artículo, cantidad, precio por unidad), ... (número de artículo, cantidad, precio por unidad)] \n",
    "\n",
    "`orders = [[1, (\"5464\", 4, 9.99), (\"8274\",18,12.99), (\"9744\", 9, 44.95)], \n",
    "\t       [2, (\"5464\", 9, 9.99), (\"9744\", 9, 44.95)],\n",
    "\t       [3, (\"5464\", 9, 9.99), (\"88112\", 11, 24.99)],\n",
    "           [4, (\"8732\", 7, 11.99), (\"7733\",11,18.99), (\"88112\", 5, 39.95)] ]`\n",
    "\n",
    "Escriba un programa que devuelva una lista de dos tuplas que tengan la información de (número de pedido, cantidad total de pedido). Utilice la función `Reduce`. Recuerde el precio del pedido del producto debe aumentarse en 10€ si el valor de la orden es inferior a 100,00 €."
   ]
  },
  {
   "cell_type": "code",
   "execution_count": 13,
   "metadata": {},
   "outputs": [
    {
     "data": {
      "text/plain": [
       "[(1, 688.3299999999999),\n",
       " (2, 504.46000000000004),\n",
       " (3, 374.79999999999995),\n",
       " (4, 502.57)]"
      ]
     },
     "execution_count": 13,
     "metadata": {},
     "output_type": "execute_result"
    }
   ],
   "source": [
    "# Codigo Nicolas Glez\n",
    "orders2 = [[1, (\"5464\", 4, 9.99), (\"8274\",18,12.99), (\"9744\", 9, 44.95)], \n",
    "          [2, (\"5464\", 9, 9.99), (\"9744\", 9, 44.95)],\n",
    "          [3, (\"5464\", 9, 9.99), (\"88112\", 11, 24.99)],\n",
    "          [4, (\"8732\", 7, 11.99), (\"7733\",11,18.99), (\"88112\", 5, 39.95)] ]\n",
    "\n",
    "conditional = lambda x: x+ 10 if (x < 100) else x # Funcion para aplicar la condicion\n",
    "suma = lambda c,d : c + d # funcion para sumar\n",
    "\n",
    "i = list(zip(*orders2))[0] # Guardar el indice\n",
    "temp = list(map(lambda x: x[1:], orders2)) # Guardar las demas variables\n",
    "p = list(map(lambda c: reduce(suma, list(map(conditional, list(map(lambda x: x[1]*x[2], c))))), temp)) # iterar sobre los datos\n",
    "\n",
    "sol2 = list(zip(i, p)) # imprimir la solucion \n",
    "sol2"
   ]
  },
  {
   "cell_type": "code",
   "execution_count": null,
   "metadata": {},
   "outputs": [],
   "source": [
    "# Codigo Jose Tonatiuh"
   ]
  },
  {
   "cell_type": "markdown",
   "metadata": {},
   "source": [
    "### **Ejercicio 3**\n",
    "3. Resolver los anteriores ejercicios usando pandas (DataFrame)"
   ]
  },
  {
   "cell_type": "code",
   "execution_count": 14,
   "metadata": {},
   "outputs": [
    {
     "data": {
      "text/html": [
       "<div>\n",
       "<style scoped>\n",
       "    .dataframe tbody tr th:only-of-type {\n",
       "        vertical-align: middle;\n",
       "    }\n",
       "\n",
       "    .dataframe tbody tr th {\n",
       "        vertical-align: top;\n",
       "    }\n",
       "\n",
       "    .dataframe thead th {\n",
       "        text-align: right;\n",
       "    }\n",
       "</style>\n",
       "<table border=\"1\" class=\"dataframe\">\n",
       "  <thead>\n",
       "    <tr style=\"text-align: right;\">\n",
       "      <th></th>\n",
       "      <th>0</th>\n",
       "      <th>4</th>\n",
       "    </tr>\n",
       "  </thead>\n",
       "  <tbody>\n",
       "    <tr>\n",
       "      <th>0</th>\n",
       "      <td>34587</td>\n",
       "      <td>163.80</td>\n",
       "    </tr>\n",
       "    <tr>\n",
       "      <th>1</th>\n",
       "      <td>98762</td>\n",
       "      <td>284.00</td>\n",
       "    </tr>\n",
       "    <tr>\n",
       "      <th>2</th>\n",
       "      <td>77226</td>\n",
       "      <td>108.85</td>\n",
       "    </tr>\n",
       "    <tr>\n",
       "      <th>3</th>\n",
       "      <td>88112</td>\n",
       "      <td>84.97</td>\n",
       "    </tr>\n",
       "  </tbody>\n",
       "</table>\n",
       "</div>"
      ],
      "text/plain": [
       "       0       4\n",
       "0  34587  163.80\n",
       "1  98762  284.00\n",
       "2  77226  108.85\n",
       "3  88112   84.97"
      ]
     },
     "execution_count": 14,
     "metadata": {},
     "output_type": "execute_result"
    }
   ],
   "source": [
    "# Solucion Ejercicio 3.1 con Pandas\n",
    "\n",
    "# Codigo Nicolas Glez\n",
    "orders3 =  [[\"34587\", \"Learning Python, Mark Lutz\", 4, 40.95], \n",
    "           [\"98762\", \"Programming Python, Mark Lutz\", 5, 56.80], \n",
    "           [\"77226\", \"Head First Python, Paul Barry\", 3,32.95],\n",
    "           [\"88112\", \"Einführung in Python3, Bernd Klein\", 3, 24.99]]\n",
    "\n",
    "conditional = lambda x: x+ 10 if (x < 100) else x # Funcion para aplicar la condicion\n",
    "\n",
    "orders3 = pd.DataFrame(orders3)\n",
    "orders3 = orders3.drop(orders3.columns[[1]], axis = 'columns')\n",
    "orders3['4'] = pd.DataFrame(map(conditional,orders3.iloc[:,1] * orders3.iloc[:,2]))\n",
    "sol31 = orders3.drop(orders3.columns[[1,2]], axis = 'columns')\n",
    "sol31\n"
   ]
  },
  {
   "cell_type": "code",
   "execution_count": null,
   "metadata": {},
   "outputs": [],
   "source": [
    "# Codigo Jose Tonatiuh"
   ]
  },
  {
   "cell_type": "code",
   "execution_count": 17,
   "metadata": {},
   "outputs": [
    {
     "data": {
      "text/html": [
       "<div>\n",
       "<style scoped>\n",
       "    .dataframe tbody tr th:only-of-type {\n",
       "        vertical-align: middle;\n",
       "    }\n",
       "\n",
       "    .dataframe tbody tr th {\n",
       "        vertical-align: top;\n",
       "    }\n",
       "\n",
       "    .dataframe thead th {\n",
       "        text-align: right;\n",
       "    }\n",
       "</style>\n",
       "<table border=\"1\" class=\"dataframe\">\n",
       "  <thead>\n",
       "    <tr style=\"text-align: right;\">\n",
       "      <th></th>\n",
       "      <th>Order Number</th>\n",
       "      <th>Total</th>\n",
       "    </tr>\n",
       "  </thead>\n",
       "  <tbody>\n",
       "    <tr>\n",
       "      <th>0</th>\n",
       "      <td>1</td>\n",
       "      <td>688.33</td>\n",
       "    </tr>\n",
       "    <tr>\n",
       "      <th>1</th>\n",
       "      <td>2</td>\n",
       "      <td>504.46</td>\n",
       "    </tr>\n",
       "    <tr>\n",
       "      <th>2</th>\n",
       "      <td>3</td>\n",
       "      <td>374.80</td>\n",
       "    </tr>\n",
       "    <tr>\n",
       "      <th>3</th>\n",
       "      <td>4</td>\n",
       "      <td>502.57</td>\n",
       "    </tr>\n",
       "  </tbody>\n",
       "</table>\n",
       "</div>"
      ],
      "text/plain": [
       "   Order Number   Total\n",
       "0             1  688.33\n",
       "1             2  504.46\n",
       "2             3  374.80\n",
       "3             4  502.57"
      ]
     },
     "execution_count": 17,
     "metadata": {},
     "output_type": "execute_result"
    }
   ],
   "source": [
    "# Solucion Ejercicio 3.2 con Pandas\n",
    "\n",
    "# Codigo Nicolas Glez\n",
    "orders4 = [[1, (\"5464\", 4, 9.99), (\"8274\",18,12.99), (\"9744\", 9, 44.95)], \n",
    "          [2, (\"5464\", 9, 9.99), (\"9744\", 9, 44.95)],\n",
    "          [3, (\"5464\", 9, 9.99), (\"88112\", 11, 24.99)],\n",
    "          [4, (\"8732\", 7, 11.99), (\"7733\",11,18.99), (\"88112\", 5, 39.95)] ]\n",
    "\n",
    "conditional = lambda x: x+ 10 if (x < 100 and x != 0) else x # Funcion para aplicar la condicion\n",
    "multi = lambda a,b : a*b # funcion para multiplicar\n",
    "suma = lambda c,d,e : c + d + e # funcion para sumar\n",
    "\n",
    "orders4 = pd.DataFrame(orders4)\n",
    "orders4.fillna(0, inplace = True)\n",
    "temp2 = pd.DataFrame(orders4.iloc[:,1:])\n",
    "t1, t2, t3 = (temp2.iloc[:, 0]), (temp2.iloc[:, 1]),(temp2.iloc[:, 2])\n",
    "\n",
    "tx = pd.DataFrame({'A': [t1[:][0][1], t1[:][1][1], t1[:][2][1], t1[:][3][1]],\n",
    "                   'B': [t1[:][0][2], t1[:][1][2], t1[:][2][2], t1[:][3][2]],\n",
    "                   'C': [t2[:][0][1], t2[:][1][1], t2[:][2][1], t2[:][3][1]],\n",
    "                   'D': [t2[:][0][2], t2[:][1][2], t2[:][2][2], t2[:][3][2]],\n",
    "                   'E': [t3[:][0][1], t3[1], t3[2], t3[:][3][1]],\n",
    "                   'F': [t3[:][0][2], t3[1], t3[2], t3[:][3][2]]})\n",
    "\n",
    "\n",
    "tx2 = pd.DataFrame({'A': map(conditional, map(multi, tx['A'], tx['B'])), \n",
    "                    'B': map(conditional, map(multi, tx['C'], tx['D'])),\n",
    "                    'C': map(conditional, map(multi, tx['E'], tx['F']))})\n",
    "\n",
    "tx3 = pd.DataFrame({'Order Number': (orders4.iloc[:,0]),\n",
    "                   'Total': (sum(tx2.loc[0]), sum(tx2.loc[1]), sum(tx2.loc[2]), sum(tx2.loc[3]))})\n",
    "tx3"
   ]
  },
  {
   "cell_type": "code",
   "execution_count": null,
   "metadata": {},
   "outputs": [],
   "source": [
    "# Codigo Jose Tonatiuh"
   ]
  },
  {
   "cell_type": "markdown",
   "metadata": {},
   "source": [
    "### **Ejercicio 4**\n",
    "Use filter to eliminate all words that are shorter than 4 letters from a list of words\n",
    "`list='the notion of a lambda function goes all the way back to the origin of computer science'`"
   ]
  },
  {
   "cell_type": "code",
   "execution_count": 9,
   "metadata": {},
   "outputs": [
    {
     "data": {
      "text/plain": [
       "['notion',\n",
       " 'lambda',\n",
       " 'function',\n",
       " 'goes',\n",
       " 'back',\n",
       " 'origin',\n",
       " 'computer',\n",
       " 'science']"
      ]
     },
     "execution_count": 9,
     "metadata": {},
     "output_type": "execute_result"
    }
   ],
   "source": [
    "# Solucion Ejercicio 4\n",
    "\n",
    "# Codigo Nicolas Glez\n",
    "lista = 'the notion of a lambda function goes all the way back to the origin of computer science'\n",
    "fw = lambda x: None if len(x)<4 else x\n",
    "\n",
    "s4 = list(filter(fw, lista.split()))\n",
    "s4"
   ]
  },
  {
   "cell_type": "code",
   "execution_count": null,
   "metadata": {},
   "outputs": [],
   "source": [
    "# Codigo Jose Tonatiuh"
   ]
  },
  {
   "cell_type": "markdown",
   "metadata": {},
   "source": [
    "### **Ejercicio 5**\n",
    "Use filter to determine the percentage of Fahrenheit temperatures in a list are within the range 32 to 80\n"
   ]
  },
  {
   "cell_type": "code",
   "execution_count": 10,
   "metadata": {},
   "outputs": [
    {
     "data": {
      "text/plain": [
       "[35.97387961379455,\n",
       " 63.211195349983264,\n",
       " 73.90387696517755,\n",
       " 36.982512376595906,\n",
       " 68.75395211338406,\n",
       " 45.86132066984196,\n",
       " 36.58307493022292,\n",
       " 56.322083650154724,\n",
       " 33.9621930206693,\n",
       " 45.29071317816652,\n",
       " 74.86289938282341,\n",
       " 66.51091382521807,\n",
       " 46.831316244170544,\n",
       " 44.55796498523391]"
      ]
     },
     "execution_count": 10,
     "metadata": {},
     "output_type": "execute_result"
    }
   ],
   "source": [
    "# Solucion Ejercicio 5\n",
    "\n",
    "# Codigo Nicolas Glez\n",
    "np.random.seed(55555)\n",
    "temperatures = np.random.uniform(25,110,30)\n",
    "#print(temperatures)\n",
    "\n",
    "fp = lambda x: x if x>=32 and x<=80 else None\n",
    "        \n",
    "s5 = list(filter(fp, temperatures))\n",
    "s5"
   ]
  },
  {
   "cell_type": "code",
   "execution_count": null,
   "metadata": {},
   "outputs": [],
   "source": [
    "# Codigo Jose Tonatiuh"
   ]
  },
  {
   "cell_type": "markdown",
   "metadata": {},
   "source": [
    "### **Ejercicio 6**\n",
    "Use reduce to find the lower left corner (minimum x and minimum y value) for a list of point locations"
   ]
  },
  {
   "cell_type": "code",
   "execution_count": 11,
   "metadata": {},
   "outputs": [
    {
     "data": {
      "text/plain": [
       "[0, 2]"
      ]
     },
     "execution_count": 11,
     "metadata": {},
     "output_type": "execute_result"
    }
   ],
   "source": [
    "# Solucion Ejercicio 6\n",
    "\n",
    "# Codigo Nicolas Glez\n",
    "np.random.seed(55555)\n",
    "point_xy = np.random.randint(0,100,[30,2])\n",
    "\n",
    "f = np.minimum.reduce\n",
    "\n",
    "s6 = list(reduce(lambda x,y : f([x,y]), point_xy))\n",
    "s6"
   ]
  },
  {
   "cell_type": "code",
   "execution_count": null,
   "metadata": {},
   "outputs": [],
   "source": [
    "# Codigo Jose Tonatiuh"
   ]
  },
  {
   "cell_type": "markdown",
   "metadata": {},
   "source": [
    "### Respuesta planteada en el ejercicio usando (markdown)\n"
   ]
  },
  {
   "cell_type": "markdown",
   "metadata": {},
   "source": [
    "**Ejercicio 1** La respuesta del ejercicio 1 es, que al usar las herramientas de programacion pre expuestas, se encontro que la tupla que consiste del numero de pedido y el costo total del pedido que nos arrojo fue la siguiente.\n",
    "\n",
    "```\n",
    "[('34587', 163.8),\n",
    " ('98762', 284.0),\n",
    " ('77226', 108.85000000000001),\n",
    " ('88112', 84.97)]\n",
    " ```"
   ]
  },
  {
   "cell_type": "markdown",
   "metadata": {},
   "source": [
    "**Ejercicio 2** La respuesta del ejercicio 2 es que se encontro que la tupla de dos elementos que consiste del numero de pedido y el costo total de mismo arrojada fue la siguiente.\n",
    "\n",
    "```\n",
    "[(1, 688.3299999999999),\n",
    " (2, 504.46000000000004),\n",
    " (3, 374.79999999999995),\n",
    " (4, 502.57)]\n",
    "```"
   ]
  },
  {
   "cell_type": "markdown",
   "metadata": {},
   "source": [
    "**Ejercicio 3.1** La respuesta del ejercicio 3.1 es que, al hacer el mismo ejercicio 1 con Pandas, se obtuvo el mismo resultado, pero con diferente procedimiento, teniendo la siguiente tabla como data frame:\n",
    "\n",
    "|   \t| 0     \t| 4      \t|\n",
    "|---\t|-------\t|--------\t|\n",
    "| 0 \t| 34587 \t| 163.80 \t|\n",
    "| 1 \t| 98762 \t| 284.00 \t|\n",
    "| 2 \t| 77226 \t| 108.85 \t|\n",
    "| 3 \t| 88112 \t| 84.97  \t|"
   ]
  },
  {
   "cell_type": "markdown",
   "metadata": {},
   "source": [
    "**Ejercicio 3.2** La respuesta del ejercicio 3.2 es que, al hacer el mismo ejercicio 2 con Pandas, se obtuvo el mismo resultado, pero con diferente procedimiento, teniendo la siguiente tabla como data frame:\n",
    "\n",
    "|   \t| Order Number \t| Total  \t|\n",
    "|---\t|--------------\t|--------\t|\n",
    "| 0 \t| 1            \t| 688.33 \t|\n",
    "| 1 \t| 2            \t| 504.46 \t|\n",
    "| 2 \t| 3            \t| 374.80 \t|\n",
    "| 3 \t|            4 \t| 502.57 \t|"
   ]
  },
  {
   "cell_type": "markdown",
   "metadata": {},
   "source": [
    "**Ejercicio 4** La respuesta del ejercicio 4 es, que obtuvimos que las palabras en la lista comprendida que son menores a 4 letras son las siguientes.\n",
    "\n",
    "```\n",
    "['notion',\n",
    " 'lambda',\n",
    " 'function',\n",
    " 'goes',\n",
    " 'back',\n",
    " 'origin',\n",
    " 'computer',\n",
    " 'science']\n",
    "```"
   ]
  },
  {
   "cell_type": "markdown",
   "metadata": {},
   "source": [
    "**Ejercicio 5** La respuesta del ejercicio 5 es, que al filtrar los datos que se tenian, encontramos que las temperaturas en grados Farenheit que se encuentran en el rango entre 32 y 80, son las siguientes.\n",
    "\n",
    "```\n",
    "[35.97387961379455,\n",
    " 63.211195349983264,\n",
    " 73.90387696517755,\n",
    " 36.982512376595906,\n",
    " 68.75395211338406,\n",
    " 45.86132066984196,\n",
    " 36.58307493022292,\n",
    " 56.322083650154724,\n",
    " 33.9621930206693,\n",
    " 45.29071317816652,\n",
    " 74.86289938282341,\n",
    " 66.51091382521807,\n",
    " 46.831316244170544,\n",
    " 44.55796498523391]\n",
    "```"
   ]
  },
  {
   "cell_type": "markdown",
   "metadata": {},
   "source": [
    "**Ejercicio 6** La respuesta del ejercicio 6 es que, se encontro que los minimos valor en x, y son:\n",
    "\n",
    "```\n",
    "[0, 2]\n",
    "```"
   ]
  }
 ],
 "metadata": {
  "kernelspec": {
   "display_name": "Python 3",
   "language": "python",
   "name": "python3"
  },
  "language_info": {
   "codemirror_mode": {
    "name": "ipython",
    "version": 3
   },
   "file_extension": ".py",
   "mimetype": "text/x-python",
   "name": "python",
   "nbconvert_exporter": "python",
   "pygments_lexer": "ipython3",
   "version": "3.8.3"
  }
 },
 "nbformat": 4,
 "nbformat_minor": 4
}
